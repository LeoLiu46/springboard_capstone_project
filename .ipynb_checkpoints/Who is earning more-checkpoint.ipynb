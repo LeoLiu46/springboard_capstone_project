{
 "cells": [
  {
   "cell_type": "code",
   "execution_count": 135,
   "metadata": {},
   "outputs": [],
   "source": [
    "import pandas as pd\n",
    "import numpy as np\n",
    "import matplotlib.pyplot as plt\n",
    "import seaborn as sns\n",
    "import statsmodels.api as sm\n",
    "from statsmodels.formula.api import ols"
   ]
  },
  {
   "cell_type": "code",
   "execution_count": 169,
   "metadata": {},
   "outputs": [
    {
     "data": {
      "text/plain": [
       "53"
      ]
     },
     "execution_count": 169,
     "metadata": {},
     "output_type": "execute_result"
    }
   ],
   "source": [
    "edu_data = pd.read_csv(\"D:/Work&Study/Leo's Ongoing Project/Springboard Data Track/First Capstone Project/\\\n",
    "Data/50variables.csv\", index_col = 0)\n",
    "len(edu_data.columns)"
   ]
  },
  {
   "cell_type": "markdown",
   "metadata": {},
   "source": [
    "Part I: plot salary increase versus participants' years of graduation, grouped by \"how relevant is the job to the education background\""
   ]
  },
  {
   "cell_type": "code",
   "execution_count": 170,
   "metadata": {},
   "outputs": [
    {
     "data": {
      "text/plain": [
       "39"
      ]
     },
     "execution_count": 170,
     "metadata": {},
     "output_type": "execute_result"
    }
   ],
   "source": [
    "#columns cleaning\n",
    "del_col = ['REFID','YEAR','WEIGHT','SAMPLE','SURID','BIRYR','NBAMEMG','NDGMEMG','MRDG','MR03Y5',\\\n",
    "      'NMRMEDR','NMRMEMG','MRDGRUS','EMSMI']\n",
    "edu_data.drop(del_col, axis=1, inplace=True)\n",
    "len(edu_data.columns)"
   ]
  },
  {
   "cell_type": "code",
   "execution_count": 181,
   "metadata": {},
   "outputs": [],
   "source": [
    "#columns data normalization\n",
    "edu_data['BA03Y5'] = 2017 - edu_data['BA03Y5'] \n",
    "edu_data['HD03Y5'] = 2017 - edu_data['HD03Y5'] "
   ]
  },
  {
   "cell_type": "code",
   "execution_count": 182,
   "metadata": {},
   "outputs": [
    {
     "name": "stderr",
     "output_type": "stream",
     "text": [
      "C:\\Users\\46126\\Anaconda3\\lib\\site-packages\\ipykernel_launcher.py:7: UserWarning: Boolean Series key will be reindexed to match DataFrame index.\n",
      "  import sys\n",
      "C:\\Users\\46126\\Anaconda3\\lib\\site-packages\\ipykernel_launcher.py:10: UserWarning: Boolean Series key will be reindexed to match DataFrame index.\n",
      "  # Remove the CWD from sys.path while we load stuff.\n"
     ]
    },
    {
     "data": {
      "text/plain": [
       "64705"
      ]
     },
     "execution_count": 182,
     "metadata": {},
     "output_type": "execute_result"
    }
   ],
   "source": [
    "#data cleaning\n",
    "\n",
    "#delete full time and part time students\n",
    "edu_data_1 = edu_data[(edu_data['ACFPT']==3)|(edu_data['ACFPT']==98)]\n",
    "\n",
    "#delete unemployed observations\n",
    "edu_data_2 = edu_data_1[edu_data['LFSTAT']==1]\n",
    "\n",
    "#delete extreme salary values\n",
    "edu_data_3 = edu_data_2[(edu_data['SALARY'] != 9999998) & (edu_data['SALARY'] != 0)]\n",
    "\n",
    "#delete observations of employments outside US\n",
    "edu_data_4 = edu_data_3[edu_data_3['EMUS']==1]\n",
    "len(edu_data_4)\n",
    "\n",
    "#slicing 14 majors\n"
   ]
  },
  {
   "cell_type": "code",
   "execution_count": 192,
   "metadata": {},
   "outputs": [],
   "source": [
    "edu_data_cr = edu_data_4[edu_data_4['OCEDRLP']==1]\n",
    "edu_data_cr_salary = edu_data_cr.groupby('HD03Y5').mean().reset_index()\n",
    "\n",
    "edu_data_sr = edu_data_4[edu_data_4['OCEDRLP']==2]\n",
    "edu_data_sr_salary = edu_data_sr.groupby('HD03Y5').mean().reset_index()\n",
    "\n",
    "edu_data_nr = edu_data_4[edu_data_4['OCEDRLP']==3]\n",
    "edu_data_nr_salary = edu_data_nr.groupby('HD03Y5').mean().reset_index()\n",
    "\n",
    "# 01 Closely related X\n",
    "# 02 Somewhat related X\n",
    "# 03 Not related X\n",
    "# 98 Logical Skip X\n"
   ]
  },
  {
   "cell_type": "code",
   "execution_count": 235,
   "metadata": {},
   "outputs": [
    {
     "data": {
      "image/png": "[encoded data removed]",
      "text/plain": [
       "<matplotlib.figure.Figure at 0x2ac2575f128>"
      ]
     },
     "metadata": {},
     "output_type": "display_data"
    }
   ],
   "source": [
    "#plot 'salary' over 'years of graduation' \n",
    "\n",
    "plt.figure(figsize=(10,6))\n",
    "plt.scatter(edu_data_cr_salary['HD03Y5'],edu_data_cr_salary['SALARY'],color='green',marker='s',alpha=0.5)\n",
    "plt.scatter(edu_data_sr_salary['HD03Y5'],edu_data_sr_salary['SALARY'],color='blue',marker='^',alpha=0.5)\n",
    "plt.scatter(edu_data_nr_salary['HD03Y5'],edu_data_nr_salary['SALARY'],color='red',marker='o',alpha=0.5)\n",
    "\n",
    "plt.legend(['close relevant','somehow relevant','not relevant'],title='Principal job related to highest degree',\\\n",
    "           loc='lower center')\n",
    "plt.xticks(np.arange(0, 60, 5.0))\n",
    "plt.yticks(np.arange(30000, 110000, 10000))\n",
    "plt.xlabel('Years after graduation(years)')\n",
    "plt.ylabel('Annual salary(dollars)')\n",
    "# plt.yticks([40000,50000],[\"a\",\"b\"])\n",
    "plt.show()"
   ]
  },
  {
   "cell_type": "code",
   "execution_count": null,
   "metadata": {
    "collapsed": true
   },
   "outputs": [],
   "source": [
    "# percentage of people works inside and outside their field (grouped by each major)"
   ]
  },
  {
   "cell_type": "markdown",
   "metadata": {},
   "source": [
    "Part II: Predict salary based on multiple variables. first, use linear regression (stopped 12/17)"
   ]
  },
  {
   "cell_type": "code",
   "execution_count": 21,
   "metadata": {},
   "outputs": [
    {
     "data": {
      "text/plain": [
       "array(['YEAR', 'WEIGHT', 'SAMPLE', 'SURID', 'AGE', 'BIRYR', 'GENDER',\n",
       "       'CTZUSIN', 'HD03Y5', 'OCEDRLP', 'NOCPR', 'EMSIZE', 'SALARY',\n",
       "       'NRREA', 'JOBSATIS', 'NDGMED_198895', 'NDGMED_226395',\n",
       "       'NDGMED_298895', 'NDGMED_318730', 'NDGMED_338785', 'NDGMED_398895',\n",
       "       'NDGMED_419295', 'NDGMED_429295', 'NDGMED_438995', 'NDGMED_449995',\n",
       "       'NDGMED_459395', 'NDGMED_527250', 'NDGMED_537260', 'NDGMED_547280',\n",
       "       'NDGMED_567350', 'NDGMED_587995', 'NDGMED_611995', 'NDGMED_699995',\n",
       "       'NDGMED_719995', 'NDGMED_799995'], dtype=object)"
      ]
     },
     "execution_count": 21,
     "metadata": {},
     "output_type": "execute_result"
    }
   ],
   "source": [
    "# split to dummy variable columns\n",
    "deg_maj = edu_data['NDGMED']\n",
    "\n",
    "test_edu_data = pd.get_dummies(edu_data, columns = ['NDGMED'])\n",
    "# pd.get_dummies(deg_maj)\n",
    "test_edu_data.columns.values"
   ]
  },
  {
   "cell_type": "code",
   "execution_count": 57,
   "metadata": {},
   "outputs": [
    {
     "name": "stdout",
     "output_type": "stream",
     "text": [
      "                            OLS Regression Results                            \n",
      "==============================================================================\n",
      "Dep. Variable:                 SALARY   R-squared:                       0.189\n",
      "Model:                            OLS   Adj. R-squared:                  0.189\n",
      "Method:                 Least Squares   F-statistic:                     788.0\n",
      "Date:                Sun, 17 Dec 2017   Prob (F-statistic):               0.00\n",
      "Time:                        14:36:52   Log-Likelihood:            -8.4278e+05\n",
      "No. Observations:               70897   AIC:                         1.686e+06\n",
      "Df Residuals:                   70875   BIC:                         1.686e+06\n",
      "Df Model:                          21                                         \n",
      "Covariance Type:            nonrobust                                         \n",
      "=================================================================================\n",
      "                    coef    std err          t      P>|t|      [0.025      0.975]\n",
      "---------------------------------------------------------------------------------\n",
      "Intercept      2.003e+04    585.652     34.200      0.000    1.89e+04    2.12e+04\n",
      "AGE             642.1729     10.699     60.020      0.000     621.202     663.144\n",
      "GENDER         1.395e+04    291.292     47.892      0.000    1.34e+04    1.45e+04\n",
      "NDGMED_198895  8803.5592    430.287     20.460      0.000    7960.198    9646.920\n",
      "NDGMED_226395 -9673.2127    510.544    -18.947      0.000   -1.07e+04   -8672.548\n",
      "NDGMED_298895 -1.167e+04    814.122    -14.330      0.000   -1.33e+04   -1.01e+04\n",
      "NDGMED_318730 -5212.8824    845.932     -6.162      0.000   -6870.907   -3554.858\n",
      "NDGMED_338785 -4019.1806   1168.871     -3.439      0.001   -6310.164   -1728.197\n",
      "NDGMED_398895   387.4803    993.508      0.390      0.697   -1559.794    2334.754\n",
      "NDGMED_419295  4289.8293    743.949      5.766      0.000    2831.691    5747.968\n",
      "NDGMED_429295 -2960.2980    717.164     -4.128      0.000   -4365.938   -1554.658\n",
      "NDGMED_438995  -1.57e+04    523.736    -29.972      0.000   -1.67e+04   -1.47e+04\n",
      "NDGMED_449995 -1.824e+04    761.195    -23.958      0.000   -1.97e+04   -1.67e+04\n",
      "NDGMED_459395 -1.542e+04    890.245    -17.322      0.000   -1.72e+04   -1.37e+04\n",
      "NDGMED_527250  1.842e+04    933.282     19.737      0.000    1.66e+04    2.02e+04\n",
      "NDGMED_537260  6555.7665    700.623      9.357      0.000    5182.548    7928.985\n",
      "NDGMED_547280  1.965e+04    576.755     34.076      0.000    1.85e+04    2.08e+04\n",
      "NDGMED_567350  1.303e+04    591.863     22.012      0.000    1.19e+04    1.42e+04\n",
      "NDGMED_587995  1.411e+04    497.621     28.361      0.000    1.31e+04    1.51e+04\n",
      "NDGMED_611995  6773.6072    390.774     17.334      0.000    6007.691    7539.523\n",
      "NDGMED_699995 -6409.6120    613.141    -10.454      0.000   -7611.367   -5207.857\n",
      "NDGMED_719995  1.863e+04    517.033     36.024      0.000    1.76e+04    1.96e+04\n",
      "NDGMED_799995 -1325.4087    410.356     -3.230      0.001   -2129.706    -521.112\n",
      "==============================================================================\n",
      "Omnibus:                      507.809   Durbin-Watson:                   1.849\n",
      "Prob(Omnibus):                  0.000   Jarque-Bera (JB):              518.150\n",
      "Skew:                           0.208   Prob(JB):                    3.06e-113\n",
      "Kurtosis:                       2.953   Cond. No.                     1.58e+17\n",
      "==============================================================================\n",
      "\n",
      "Warnings:\n",
      "[1] Standard Errors assume that the covariance matrix of the errors is correctly specified.\n",
      "[2] The smallest eigenvalue is 5.34e-27. This might indicate that there are\n",
      "strong multicollinearity problems or that the design matrix is singular.\n"
     ]
    }
   ],
   "source": [
    "#multiple correlation\n",
    "\n",
    "# print(data.corr()) get correlation between each two variables among all\n",
    "\n",
    "Y = test_edu_data['SALARY']\n",
    "X = test_edu_data.loc[:,['AGE','NDGMED_198895', 'NDGMED_226395',\\\n",
    "                         'NDGMED_298895', 'NDGMED_318730', 'NDGMED_338785', 'NDGMED_398895',\\\n",
    "                         'NDGMED_419295', 'NDGMED_429295', 'NDGMED_438995', 'NDGMED_449995',\\\n",
    "                         'NDGMED_459395', 'NDGMED_527250', 'NDGMED_537260', 'NDGMED_547280',\\\n",
    "                         'NDGMED_567350', 'NDGMED_587995', 'NDGMED_611995', 'NDGMED_699995',\\\n",
    "                         'NDGMED_719995', 'NDGMED_799995']]\n",
    "\n",
    "# model = ols(\"SALARY ~  AGE + GENDER + NDGMED_198895 + NDGMED_226395 + NDGMED_298895 + NDGMED_318730 +NDGMED_338785 + NDGMED_398895 + \\\n",
    "#  NDGMED_419295 + NDGMED_429295 + NDGMED_438995 + NDGMED_449995 + NDGMED_459395 + NDGMED_527250 + NDGMED_537260 + NDGMED_547280 + \\\n",
    "#  NDGMED_567350 + NDGMED_587995 + NDGMED_611995 + NDGMED_699995 + NDGMED_719995 + NDGMED_799995\" , data=test_edu_data).fit()\n",
    "\n",
    "\n",
    "# print (model.params)\n",
    "print (model.summary())"
   ]
  },
  {
   "cell_type": "code",
   "execution_count": 59,
   "metadata": {},
   "outputs": [
    {
     "name": "stderr",
     "output_type": "stream",
     "text": [
      "C:\\Users\\46126\\Anaconda3\\lib\\site-packages\\sklearn\\linear_model\\coordinate_descent.py:491: ConvergenceWarning: Objective did not converge. You might want to increase the number of iterations. Fitting data with very small alpha may cause precision problems.\n",
      "  ConvergenceWarning)\n"
     ]
    },
    {
     "data": {
      "text/html": [
       "<div>\n",
       "<style>\n",
       "    .dataframe thead tr:only-child th {\n",
       "        text-align: right;\n",
       "    }\n",
       "\n",
       "    .dataframe thead th {\n",
       "        text-align: left;\n",
       "    }\n",
       "\n",
       "    .dataframe tbody tr th {\n",
       "        vertical-align: top;\n",
       "    }\n",
       "</style>\n",
       "<table border=\"1\" class=\"dataframe\">\n",
       "  <thead>\n",
       "    <tr style=\"text-align: right;\">\n",
       "      <th></th>\n",
       "      <th>coeff</th>\n",
       "      <th>features</th>\n",
       "      <th>sort</th>\n",
       "    </tr>\n",
       "  </thead>\n",
       "  <tbody>\n",
       "    <tr>\n",
       "      <th>0</th>\n",
       "      <td>9031.156931</td>\n",
       "      <td>AGE</td>\n",
       "      <td>9031.156931</td>\n",
       "    </tr>\n",
       "    <tr>\n",
       "      <th>9</th>\n",
       "      <td>-5606.968241</td>\n",
       "      <td>NDGMED_438995</td>\n",
       "      <td>5606.968241</td>\n",
       "    </tr>\n",
       "    <tr>\n",
       "      <th>14</th>\n",
       "      <td>4578.112995</td>\n",
       "      <td>NDGMED_547280</td>\n",
       "      <td>4578.112995</td>\n",
       "    </tr>\n",
       "    <tr>\n",
       "      <th>19</th>\n",
       "      <td>4174.696709</td>\n",
       "      <td>NDGMED_719995</td>\n",
       "      <td>4174.696709</td>\n",
       "    </tr>\n",
       "    <tr>\n",
       "      <th>10</th>\n",
       "      <td>-4001.784309</td>\n",
       "      <td>NDGMED_449995</td>\n",
       "      <td>4001.784309</td>\n",
       "    </tr>\n",
       "    <tr>\n",
       "      <th>2</th>\n",
       "      <td>-3644.134737</td>\n",
       "      <td>NDGMED_226395</td>\n",
       "      <td>3644.134737</td>\n",
       "    </tr>\n",
       "    <tr>\n",
       "      <th>16</th>\n",
       "      <td>3473.713175</td>\n",
       "      <td>NDGMED_587995</td>\n",
       "      <td>3473.713175</td>\n",
       "    </tr>\n",
       "    <tr>\n",
       "      <th>15</th>\n",
       "      <td>3034.852814</td>\n",
       "      <td>NDGMED_567350</td>\n",
       "      <td>3034.852814</td>\n",
       "    </tr>\n",
       "    <tr>\n",
       "      <th>11</th>\n",
       "      <td>-2915.207437</td>\n",
       "      <td>NDGMED_459395</td>\n",
       "      <td>2915.207437</td>\n",
       "    </tr>\n",
       "    <tr>\n",
       "      <th>12</th>\n",
       "      <td>2295.376165</td>\n",
       "      <td>NDGMED_527250</td>\n",
       "      <td>2295.376165</td>\n",
       "    </tr>\n",
       "    <tr>\n",
       "      <th>3</th>\n",
       "      <td>-2219.474383</td>\n",
       "      <td>NDGMED_298895</td>\n",
       "      <td>2219.474383</td>\n",
       "    </tr>\n",
       "    <tr>\n",
       "      <th>1</th>\n",
       "      <td>2115.788985</td>\n",
       "      <td>NDGMED_198895</td>\n",
       "      <td>2115.788985</td>\n",
       "    </tr>\n",
       "    <tr>\n",
       "      <th>20</th>\n",
       "      <td>-2025.533091</td>\n",
       "      <td>NDGMED_799995</td>\n",
       "      <td>2025.533091</td>\n",
       "    </tr>\n",
       "    <tr>\n",
       "      <th>18</th>\n",
       "      <td>-1835.326932</td>\n",
       "      <td>NDGMED_699995</td>\n",
       "      <td>1835.326932</td>\n",
       "    </tr>\n",
       "    <tr>\n",
       "      <th>4</th>\n",
       "      <td>-1244.736698</td>\n",
       "      <td>NDGMED_318730</td>\n",
       "      <td>1244.736698</td>\n",
       "    </tr>\n",
       "    <tr>\n",
       "      <th>13</th>\n",
       "      <td>1189.644310</td>\n",
       "      <td>NDGMED_537260</td>\n",
       "      <td>1189.644310</td>\n",
       "    </tr>\n",
       "    <tr>\n",
       "      <th>8</th>\n",
       "      <td>-1175.885758</td>\n",
       "      <td>NDGMED_429295</td>\n",
       "      <td>1175.885758</td>\n",
       "    </tr>\n",
       "    <tr>\n",
       "      <th>5</th>\n",
       "      <td>-471.602949</td>\n",
       "      <td>NDGMED_338785</td>\n",
       "      <td>471.602949</td>\n",
       "    </tr>\n",
       "    <tr>\n",
       "      <th>7</th>\n",
       "      <td>402.281063</td>\n",
       "      <td>NDGMED_419295</td>\n",
       "      <td>402.281063</td>\n",
       "    </tr>\n",
       "    <tr>\n",
       "      <th>17</th>\n",
       "      <td>-208.850556</td>\n",
       "      <td>NDGMED_611995</td>\n",
       "      <td>208.850556</td>\n",
       "    </tr>\n",
       "    <tr>\n",
       "      <th>6</th>\n",
       "      <td>-194.587817</td>\n",
       "      <td>NDGMED_398895</td>\n",
       "      <td>194.587817</td>\n",
       "    </tr>\n",
       "  </tbody>\n",
       "</table>\n",
       "</div>"
      ],
      "text/plain": [
       "          coeff       features         sort\n",
       "0   9031.156931            AGE  9031.156931\n",
       "9  -5606.968241  NDGMED_438995  5606.968241\n",
       "14  4578.112995  NDGMED_547280  4578.112995\n",
       "19  4174.696709  NDGMED_719995  4174.696709\n",
       "10 -4001.784309  NDGMED_449995  4001.784309\n",
       "2  -3644.134737  NDGMED_226395  3644.134737\n",
       "16  3473.713175  NDGMED_587995  3473.713175\n",
       "15  3034.852814  NDGMED_567350  3034.852814\n",
       "11 -2915.207437  NDGMED_459395  2915.207437\n",
       "12  2295.376165  NDGMED_527250  2295.376165\n",
       "3  -2219.474383  NDGMED_298895  2219.474383\n",
       "1   2115.788985  NDGMED_198895  2115.788985\n",
       "20 -2025.533091  NDGMED_799995  2025.533091\n",
       "18 -1835.326932  NDGMED_699995  1835.326932\n",
       "4  -1244.736698  NDGMED_318730  1244.736698\n",
       "13  1189.644310  NDGMED_537260  1189.644310\n",
       "8  -1175.885758  NDGMED_429295  1175.885758\n",
       "5   -471.602949  NDGMED_338785   471.602949\n",
       "7    402.281063  NDGMED_419295   402.281063\n",
       "17  -208.850556  NDGMED_611995   208.850556\n",
       "6   -194.587817  NDGMED_398895   194.587817"
      ]
     },
     "execution_count": 59,
     "metadata": {},
     "output_type": "execute_result"
    }
   ],
   "source": [
    "#Lasso\n",
    "from sklearn import linear_model\n",
    "from sklearn.preprocessing import StandardScaler\n",
    "\n",
    "scaler = StandardScaler()\n",
    "scaler.fit(X)\n",
    "X1 = scaler.transform(X)\n",
    "\n",
    "clf = linear_model.Lasso(alpha=0.7)\n",
    "clf.fit(X1,Y)\n",
    "\n",
    "names = []\n",
    "coeffs = []\n",
    "\n",
    "for ix,c in enumerate(clf.coef_):\n",
    "    if float(c) != 0:\n",
    "#         print(X.columns[ix], c)\n",
    "        names.append(X.columns[ix])\n",
    "        coeffs.append(c)\n",
    "\n",
    "co = pd.DataFrame({'features': names, 'coeff': coeffs})\n",
    "co['sort'] = co.coeff.abs()\n",
    "\n",
    "co.sort_values(by = 'sort', ascending = False)"
   ]
  },
  {
   "cell_type": "code",
   "execution_count": 13,
   "metadata": {},
   "outputs": [
    {
     "data": {
      "text/html": [
       "<table class=\"simpletable\">\n",
       "<caption>OLS Regression Results</caption>\n",
       "<tr>\n",
       "  <th>Dep. Variable:</th>         <td>SALARY</td>      <th>  R-squared:         </th>  <td>   0.796</td>  \n",
       "</tr>\n",
       "<tr>\n",
       "  <th>Model:</th>                   <td>OLS</td>       <th>  Adj. R-squared:    </th>  <td>   0.796</td>  \n",
       "</tr>\n",
       "<tr>\n",
       "  <th>Method:</th>             <td>Least Squares</td>  <th>  F-statistic:       </th>  <td>9.219e+04</td> \n",
       "</tr>\n",
       "<tr>\n",
       "  <th>Date:</th>             <td>Wed, 13 Dec 2017</td> <th>  Prob (F-statistic):</th>   <td>  0.00</td>   \n",
       "</tr>\n",
       "<tr>\n",
       "  <th>Time:</th>                 <td>19:44:56</td>     <th>  Log-Likelihood:    </th> <td>-8.4581e+05</td>\n",
       "</tr>\n",
       "<tr>\n",
       "  <th>No. Observations:</th>      <td> 70897</td>      <th>  AIC:               </th>  <td>1.692e+06</td> \n",
       "</tr>\n",
       "<tr>\n",
       "  <th>Df Residuals:</th>          <td> 70894</td>      <th>  BIC:               </th>  <td>1.692e+06</td> \n",
       "</tr>\n",
       "<tr>\n",
       "  <th>Df Model:</th>              <td>     3</td>      <th>                     </th>      <td> </td>     \n",
       "</tr>\n",
       "<tr>\n",
       "  <th>Covariance Type:</th>      <td>nonrobust</td>    <th>                     </th>      <td> </td>     \n",
       "</tr>\n",
       "</table>\n",
       "<table class=\"simpletable\">\n",
       "<tr>\n",
       "     <td></td>       <th>coef</th>     <th>std err</th>      <th>t</th>      <th>P>|t|</th>  <th>[0.025</th>    <th>0.975]</th>  \n",
       "</tr>\n",
       "<tr>\n",
       "  <th>AGE</th>    <td>  673.8390</td> <td>    9.450</td> <td>   71.302</td> <td> 0.000</td> <td>  655.316</td> <td>  692.362</td>\n",
       "</tr>\n",
       "<tr>\n",
       "  <th>GENDER</th> <td> 2.105e+04</td> <td>  231.887</td> <td>   90.760</td> <td> 0.000</td> <td> 2.06e+04</td> <td> 2.15e+04</td>\n",
       "</tr>\n",
       "<tr>\n",
       "  <th>NDGMED</th> <td>    0.0200</td> <td>    0.001</td> <td>   31.092</td> <td> 0.000</td> <td>    0.019</td> <td>    0.021</td>\n",
       "</tr>\n",
       "</table>\n",
       "<table class=\"simpletable\">\n",
       "<tr>\n",
       "  <th>Omnibus:</th>       <td>696.368</td> <th>  Durbin-Watson:     </th> <td>   1.833</td> \n",
       "</tr>\n",
       "<tr>\n",
       "  <th>Prob(Omnibus):</th> <td> 0.000</td>  <th>  Jarque-Bera (JB):  </th> <td> 619.504</td> \n",
       "</tr>\n",
       "<tr>\n",
       "  <th>Skew:</th>          <td> 0.181</td>  <th>  Prob(JB):          </th> <td>3.00e-135</td>\n",
       "</tr>\n",
       "<tr>\n",
       "  <th>Kurtosis:</th>      <td> 2.721</td>  <th>  Cond. No.          </th> <td>9.19e+05</td> \n",
       "</tr>\n",
       "</table>"
      ],
      "text/plain": [
       "<class 'statsmodels.iolib.summary.Summary'>\n",
       "\"\"\"\n",
       "                            OLS Regression Results                            \n",
       "==============================================================================\n",
       "Dep. Variable:                 SALARY   R-squared:                       0.796\n",
       "Model:                            OLS   Adj. R-squared:                  0.796\n",
       "Method:                 Least Squares   F-statistic:                 9.219e+04\n",
       "Date:                Wed, 13 Dec 2017   Prob (F-statistic):               0.00\n",
       "Time:                        19:44:56   Log-Likelihood:            -8.4581e+05\n",
       "No. Observations:               70897   AIC:                         1.692e+06\n",
       "Df Residuals:                   70894   BIC:                         1.692e+06\n",
       "Df Model:                           3                                         \n",
       "Covariance Type:            nonrobust                                         \n",
       "==============================================================================\n",
       "                 coef    std err          t      P>|t|      [0.025      0.975]\n",
       "------------------------------------------------------------------------------\n",
       "AGE          673.8390      9.450     71.302      0.000     655.316     692.362\n",
       "GENDER      2.105e+04    231.887     90.760      0.000    2.06e+04    2.15e+04\n",
       "NDGMED         0.0200      0.001     31.092      0.000       0.019       0.021\n",
       "==============================================================================\n",
       "Omnibus:                      696.368   Durbin-Watson:                   1.833\n",
       "Prob(Omnibus):                  0.000   Jarque-Bera (JB):              619.504\n",
       "Skew:                           0.181   Prob(JB):                    3.00e-135\n",
       "Kurtosis:                       2.721   Cond. No.                     9.19e+05\n",
       "==============================================================================\n",
       "\n",
       "Warnings:\n",
       "[1] Standard Errors assume that the covariance matrix of the errors is correctly specified.\n",
       "[2] The condition number is large, 9.19e+05. This might indicate that there are\n",
       "strong multicollinearity or other numerical problems.\n",
       "\"\"\""
      ]
     },
     "execution_count": 13,
     "metadata": {},
     "output_type": "execute_result"
    }
   ],
   "source": [
    "# # define the data/predictors as the pre-set feature names  \n",
    "# pred_salary = pd.DataFrame(edu_data.data, columns=edu_data.feature_names)\n",
    "\n",
    "# # Put the target (housing value -- MEDV) in another DataFrame\n",
    "# target = pd.DataFrame(data.target, columns=[\"MEDV\"])\n",
    "\n",
    "x = edu_data[[\"AGE\",\"GENDER\",\"NDGMED\"]]\n",
    "y = edu_data[\"SALARY\"]\n",
    "model = sm.OLS(y, x).fit()\n",
    "predictions = model.predict(x)   \n",
    "model.summary()"
   ]
  },
  {
   "cell_type": "code",
   "execution_count": 4,
   "metadata": {},
   "outputs": [
    {
     "data": {
      "text/plain": [
       "169"
      ]
     },
     "execution_count": 4,
     "metadata": {},
     "output_type": "execute_result"
    }
   ],
   "source": [
    "#slicing 'local' chemical engineers\n",
    "local_ce_edu_data = edu_data[(edu_data['NDGMED']==527250)&(edu_data['NOCPR']==520850)]\n",
    "local_ce_edu_data.head(2)\n",
    "\n",
    "#slicing 'immigrant' chemical engineers\n",
    "imm_ce_edu_data = edu_data[(edu_data['NDGMED']!=527250)&(edu_data['NOCPR']==520850)]\n",
    "# imm_ce_edu_data.head(2)\n",
    "len(imm_ce_edu_data)"
   ]
  },
  {
   "cell_type": "code",
   "execution_count": 73,
   "metadata": {},
   "outputs": [
    {
     "data": {
      "text/html": [
       "<div>\n",
       "<style>\n",
       "    .dataframe thead tr:only-child th {\n",
       "        text-align: right;\n",
       "    }\n",
       "\n",
       "    .dataframe thead th {\n",
       "        text-align: left;\n",
       "    }\n",
       "\n",
       "    .dataframe tbody tr th {\n",
       "        vertical-align: top;\n",
       "    }\n",
       "</style>\n",
       "<table border=\"1\" class=\"dataframe\">\n",
       "  <thead>\n",
       "    <tr style=\"text-align: right;\">\n",
       "      <th></th>\n",
       "      <th>Years after graduation</th>\n",
       "      <th>SALARY</th>\n",
       "    </tr>\n",
       "  </thead>\n",
       "  <tbody>\n",
       "    <tr>\n",
       "      <th>0</th>\n",
       "      <td>6</td>\n",
       "      <td>64139.534884</td>\n",
       "    </tr>\n",
       "    <tr>\n",
       "      <th>1</th>\n",
       "      <td>11</td>\n",
       "      <td>74720.930233</td>\n",
       "    </tr>\n",
       "    <tr>\n",
       "      <th>2</th>\n",
       "      <td>16</td>\n",
       "      <td>90865.384615</td>\n",
       "    </tr>\n",
       "    <tr>\n",
       "      <th>3</th>\n",
       "      <td>21</td>\n",
       "      <td>104472.727273</td>\n",
       "    </tr>\n",
       "    <tr>\n",
       "      <th>4</th>\n",
       "      <td>26</td>\n",
       "      <td>103955.555556</td>\n",
       "    </tr>\n",
       "    <tr>\n",
       "      <th>5</th>\n",
       "      <td>31</td>\n",
       "      <td>122875.000000</td>\n",
       "    </tr>\n",
       "    <tr>\n",
       "      <th>6</th>\n",
       "      <td>36</td>\n",
       "      <td>122375.000000</td>\n",
       "    </tr>\n",
       "    <tr>\n",
       "      <th>7</th>\n",
       "      <td>41</td>\n",
       "      <td>107804.347826</td>\n",
       "    </tr>\n",
       "    <tr>\n",
       "      <th>8</th>\n",
       "      <td>46</td>\n",
       "      <td>110371.428571</td>\n",
       "    </tr>\n",
       "    <tr>\n",
       "      <th>9</th>\n",
       "      <td>51</td>\n",
       "      <td>100230.769231</td>\n",
       "    </tr>\n",
       "  </tbody>\n",
       "</table>\n",
       "</div>"
      ],
      "text/plain": [
       "   Years after graduation         SALARY\n",
       "0                       6   64139.534884\n",
       "1                      11   74720.930233\n",
       "2                      16   90865.384615\n",
       "3                      21  104472.727273\n",
       "4                      26  103955.555556\n",
       "5                      31  122875.000000\n",
       "6                      36  122375.000000\n",
       "7                      41  107804.347826\n",
       "8                      46  110371.428571\n",
       "9                      51  100230.769231"
      ]
     },
     "execution_count": 73,
     "metadata": {},
     "output_type": "execute_result"
    }
   ],
   "source": [
    "#add a new column: years after graduation\n",
    "local_ce_edu_data['Years after graduation'] = 2017 - local_ce_edu_data['HD03Y5']\n",
    "local_ce_edu_data.head(5)\n",
    "salary_local_ce_edu_data = local_ce_edu_data.loc[:,['SALARY','Years after graduation']]\n",
    "ave_salary_local_ce_edu_data = salary_local_ce_edu_data.groupby(['Years after graduation']).mean().reset_index()\n",
    "ave_salary_local_ce_edu_data.head(10)"
   ]
  },
  {
   "cell_type": "code",
   "execution_count": 74,
   "metadata": {},
   "outputs": [
    {
     "data": {
      "text/html": [
       "<div>\n",
       "<style>\n",
       "    .dataframe thead tr:only-child th {\n",
       "        text-align: right;\n",
       "    }\n",
       "\n",
       "    .dataframe thead th {\n",
       "        text-align: left;\n",
       "    }\n",
       "\n",
       "    .dataframe tbody tr th {\n",
       "        vertical-align: top;\n",
       "    }\n",
       "</style>\n",
       "<table border=\"1\" class=\"dataframe\">\n",
       "  <thead>\n",
       "    <tr style=\"text-align: right;\">\n",
       "      <th></th>\n",
       "      <th>Years after graduation</th>\n",
       "      <th>SALARY</th>\n",
       "    </tr>\n",
       "  </thead>\n",
       "  <tbody>\n",
       "    <tr>\n",
       "      <th>0</th>\n",
       "      <td>6</td>\n",
       "      <td>66307.692308</td>\n",
       "    </tr>\n",
       "    <tr>\n",
       "      <th>1</th>\n",
       "      <td>11</td>\n",
       "      <td>78200.000000</td>\n",
       "    </tr>\n",
       "    <tr>\n",
       "      <th>2</th>\n",
       "      <td>16</td>\n",
       "      <td>92636.363636</td>\n",
       "    </tr>\n",
       "    <tr>\n",
       "      <th>3</th>\n",
       "      <td>21</td>\n",
       "      <td>107888.888889</td>\n",
       "    </tr>\n",
       "    <tr>\n",
       "      <th>4</th>\n",
       "      <td>26</td>\n",
       "      <td>114350.000000</td>\n",
       "    </tr>\n",
       "    <tr>\n",
       "      <th>5</th>\n",
       "      <td>31</td>\n",
       "      <td>118461.538462</td>\n",
       "    </tr>\n",
       "    <tr>\n",
       "      <th>6</th>\n",
       "      <td>36</td>\n",
       "      <td>104076.923077</td>\n",
       "    </tr>\n",
       "    <tr>\n",
       "      <th>7</th>\n",
       "      <td>41</td>\n",
       "      <td>112083.333333</td>\n",
       "    </tr>\n",
       "    <tr>\n",
       "      <th>8</th>\n",
       "      <td>46</td>\n",
       "      <td>98250.000000</td>\n",
       "    </tr>\n",
       "  </tbody>\n",
       "</table>\n",
       "</div>"
      ],
      "text/plain": [
       "   Years after graduation         SALARY\n",
       "0                       6   66307.692308\n",
       "1                      11   78200.000000\n",
       "2                      16   92636.363636\n",
       "3                      21  107888.888889\n",
       "4                      26  114350.000000\n",
       "5                      31  118461.538462\n",
       "6                      36  104076.923077\n",
       "7                      41  112083.333333\n",
       "8                      46   98250.000000"
      ]
     },
     "execution_count": 74,
     "metadata": {},
     "output_type": "execute_result"
    }
   ],
   "source": [
    "imm_ce_edu_data['Years after graduation'] = 2017 - imm_ce_edu_data['HD03Y5']\n",
    "salary_imm_ce_edu_data = imm_ce_edu_data.loc[:,['SALARY','Years after graduation']]\n",
    "ave_salary_imm_ce_edu_data = salary_imm_ce_edu_data.groupby(['Years after graduation']).mean().reset_index()\n",
    "ave_salary_imm_ce_edu_data.head(10)"
   ]
  },
  {
   "cell_type": "code",
   "execution_count": 91,
   "metadata": {},
   "outputs": [
    {
     "data": {
      "image/png": "[encoded data removed]",
      "text/plain": [
       "<matplotlib.figure.Figure at 0x220069244e0>"
      ]
     },
     "metadata": {},
     "output_type": "display_data"
    }
   ],
   "source": [
    "plt.scatter(x = ave_salary_local_ce_edu_data['Years after graduation'], y = ave_salary_local_ce_edu_data['SALARY'],\n",
    "            color = 'green',marker = 's', label = 'local' )\n",
    "plt.scatter(x = ave_salary_imm_ce_edu_data['Years after graduation'], y = ave_salary_imm_ce_edu_data['SALARY'],\n",
    "            color = 'red', marker = 'o', label = 'immigrant')\n",
    "plt.xlabel('years of graduation')\n",
    "plt.ylabel('salary')\n",
    "plt.title('salary vs years after graduation for local and immigrant chemical engineers')\n",
    "plt.legend(loc = 'upper left')\n",
    "plt.show()"
   ]
  },
  {
   "cell_type": "code",
   "execution_count": 108,
   "metadata": {},
   "outputs": [
    {
     "data": {
      "image/png": "[encoded data removed]",
      "text/plain": [
       "<matplotlib.figure.Figure at 0x22006cd8080>"
      ]
     },
     "metadata": {},
     "output_type": "display_data"
    }
   ],
   "source": [
    "len(salary_local_ce_edu_data)\n",
    "\n",
    "plt.subplot(1,2,1)\n",
    "sns.boxplot(x = salary_local_ce_edu_data['Years after graduation'], y = salary_local_ce_edu_data['SALARY'])\n",
    "plt.title('salary vs years after graduation for local and immigrant chemical engineers')\n",
    "\n",
    "plt.subplot(1,2,2)\n",
    "sns.boxplot(x = salary_imm_ce_edu_data['Years after graduation'], y = salary_imm_ce_edu_data['SALARY'])\n",
    "plt.ylabel('off')\n",
    "plt.axis('off')\n",
    "# plt.title('salary vs years after graduation for immigrant chemical engineers')\n",
    "\n",
    "plt.show()"
   ]
  }
 ],
 "metadata": {
  "kernelspec": {
   "display_name": "Python 3",
   "language": "python",
   "name": "python3"
  },
  "language_info": {
   "codemirror_mode": {
    "name": "ipython",
    "version": 3
   },
   "file_extension": ".py",
   "mimetype": "text/x-python",
   "name": "python",
   "nbconvert_exporter": "python",
   "pygments_lexer": "ipython3",
   "version": "3.6.2"
  }
 },
 "nbformat": 4,
 "nbformat_minor": 2
}
